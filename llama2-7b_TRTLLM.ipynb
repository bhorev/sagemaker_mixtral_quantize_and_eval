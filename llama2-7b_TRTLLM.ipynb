{
 "cells": [
  {
   "cell_type": "markdown",
   "id": "ca7ad78e-0e1b-44cc-bf0c-da66ebadbe47",
   "metadata": {
    "tags": []
   },
   "source": [
    "# Deploy Llama2 7B Chat with LMI \n",
    "## TensorRT-LLM"
   ]
  },
  {
   "cell_type": "markdown",
   "id": "71b71390-2c33-4ae9-a994-a06ac16da36f",
   "metadata": {},
   "source": [
    "### Quantization: None\n",
    "See serving.properties"
   ]
  },
  {
   "cell_type": "code",
   "execution_count": 4,
   "id": "dda41385-c9cd-4146-a5bb-15ddc4f5e759",
   "metadata": {},
   "outputs": [],
   "source": [
    "model_name = \"llama2-7b-chat\"\n",
    "model_filename = \"trtllm-\" + model_name + \".tar.gz\"\n",
    "s3_prefix = \"trtllm-\" + model_name\n",
    "instance_type = \"ml.g5.12xlarge\" #\"ml.g4dn.12xlarge\""
   ]
  },
  {
   "cell_type": "code",
   "execution_count": null,
   "id": "1666a2a1-6559-4673-a84f-a8f81b748a9b",
   "metadata": {
    "tags": []
   },
   "outputs": [],
   "source": [
    "!pip install -U sagemaker"
   ]
  },
  {
   "cell_type": "code",
   "execution_count": null,
   "id": "6867700a-2dca-476c-83e3-52fc8f00acbe",
   "metadata": {},
   "outputs": [],
   "source": [
    "%pip install transformers"
   ]
  },
  {
   "cell_type": "code",
   "execution_count": 28,
   "id": "94930898-bfc2-48c5-85ee-9572be253d7e",
   "metadata": {
    "tags": []
   },
   "outputs": [],
   "source": [
    "import time\n",
    "import sagemaker\n",
    "from sagemaker.model import Model\n",
    "from sagemaker import image_uris\n",
    "from sagemaker import serializers, deserializers\n",
    "\n",
    "role = sagemaker.get_execution_role()\n",
    "sess = sagemaker.session.Session()\n",
    "bucket = sess.default_bucket()\n",
    "region = sess._region_name"
   ]
  },
  {
   "cell_type": "code",
   "execution_count": null,
   "id": "efc63ec8-0657-4419-bced-357851ef06d5",
   "metadata": {
    "tags": []
   },
   "outputs": [],
   "source": [
    "# upload model code archive to S3\n",
    "!rm {model_filename} 2> /dev/null\n",
    "!tar -czf {model_filename} {s3_prefix}\n",
    "s3_artifact = sess.upload_data(model_filename, bucket, s3_prefix)\n",
    "s3_artifact"
   ]
  },
  {
   "cell_type": "code",
   "execution_count": 30,
   "id": "df735176-635d-4fd3-8f7e-0b8a76960325",
   "metadata": {
    "tags": []
   },
   "outputs": [],
   "source": [
    "def create_model(_model_name, model_s3_url):\n",
    "    # Get the LMI image uri\n",
    "    image_uri = image_uris.retrieve(\n",
    "        framework=\"djl-tensorrtllm\",\n",
    "        region=region,\n",
    "        version=\"0.25.0\"\n",
    "    )\n",
    "    hub = {\n",
    "        'HUGGING_FACE_HUB_TOKEN': 'hf_XXXXXXXXXXXXXXXXXXXXXXX'\n",
    "    }\n",
    "    model = Model(\n",
    "        image_uri=image_uri,\n",
    "        model_data=model_s3_url,\n",
    "        role=role,\n",
    "        name=_model_name,\n",
    "        sagemaker_session=sess,\n",
    "        env=hub\n",
    "    )\n",
    "    return model"
   ]
  },
  {
   "cell_type": "code",
   "execution_count": 31,
   "id": "e1096878-3848-420c-8d69-2c2c2e7a4938",
   "metadata": {
    "tags": []
   },
   "outputs": [],
   "source": [
    "def deploy_model(model, _endpoint_name):\n",
    "    model.deploy(\n",
    "        initial_instance_count=1,\n",
    "        instance_type=instance_type,\n",
    "        endpoint_name=_endpoint_name,\n",
    "        container_startup_health_check_timeout=900\n",
    "        #endpoint_logging=True\n",
    "    )\n",
    "    predictor = sagemaker.Predictor(\n",
    "        endpoint_name=_endpoint_name,\n",
    "        sagemaker_session=sess,\n",
    "        serializer=serializers.JSONSerializer(),\n",
    "        deserializer=deserializers.JSONDeserializer()\n",
    "    )\n",
    "    return predictor"
   ]
  },
  {
   "cell_type": "code",
   "execution_count": 32,
   "id": "ff073761-1581-4096-8fad-a88af74a7829",
   "metadata": {
    "tags": []
   },
   "outputs": [
    {
     "data": {
      "text/plain": [
       "'llama2-7b-chat-20240101-184601'"
      ]
     },
     "execution_count": 32,
     "metadata": {},
     "output_type": "execute_result"
    }
   ],
   "source": [
    "endpoint_name = model_name + \"-\" + time.strftime(\"%Y%m%d-%H%M%S\")\n",
    "endpoint_name"
   ]
  },
  {
   "cell_type": "code",
   "execution_count": 33,
   "id": "2d9640cf-9462-4291-82eb-a22557c172ed",
   "metadata": {
    "tags": []
   },
   "outputs": [],
   "source": [
    "model = create_model(endpoint_name, s3_artifact)"
   ]
  },
  {
   "cell_type": "code",
   "execution_count": 34,
   "id": "1ebbfa92-a723-4dd3-b63a-74a5ad27e80c",
   "metadata": {
    "tags": []
   },
   "outputs": [
    {
     "name": "stdout",
     "output_type": "stream",
     "text": [
      "763104351884.dkr.ecr.us-west-2.amazonaws.com/djl-inference:0.25.0-tensorrtllm0.5.0-cu122\n"
     ]
    }
   ],
   "source": [
    "print(model.image_uri)"
   ]
  },
  {
   "cell_type": "code",
   "execution_count": 37,
   "id": "907e68f1-156c-4e98-afb1-e5c84ce967b3",
   "metadata": {
    "tags": []
   },
   "outputs": [
    {
     "name": "stderr",
     "output_type": "stream",
     "text": [
      "Using already existing model: llama2-7b-chat-20240101-184601\n"
     ]
    },
    {
     "name": "stdout",
     "output_type": "stream",
     "text": [
      "-------------!"
     ]
    }
   ],
   "source": [
    "predictor = deploy_model(model, endpoint_name)"
   ]
  },
  {
   "cell_type": "code",
   "execution_count": 92,
   "id": "f8f3b11f-ba7c-4ade-b49d-ae6422185628",
   "metadata": {
    "tags": []
   },
   "outputs": [],
   "source": [
    "from timeit import default_timer as timer\n",
    "from transformers import LlamaTokenizerFast\n",
    "tokenizer = LlamaTokenizerFast.from_pretrained(\"hf-internal-testing/llama-tokenizer\")"
   ]
  },
  {
   "cell_type": "code",
   "execution_count": 97,
   "id": "8f493f31-fd13-4b06-a71f-c374d1fb1a76",
   "metadata": {
    "tags": []
   },
   "outputs": [],
   "source": [
    "def test_model(prompt):\n",
    "    start = timer()\n",
    "    res = predictor.predict(\n",
    "        data={ \n",
    "            \"inputs\" : prompt,\n",
    "            \"parameters\": {\"max_new_tokens\":400}\n",
    "        }\n",
    "        #custom_attributes = \"accept_eula=true\"\n",
    "    )\n",
    "    end = timer()\n",
    "    print(res)\n",
    "    print(\"Elapsed: \", end-start)\n",
    "    print(\"Tokens: \", len(tokenizer.encode(res['generated_text'])))"
   ]
  },
  {
   "cell_type": "code",
   "execution_count": 98,
   "id": "1b5a2679-2231-4451-b2f0-28c209f10528",
   "metadata": {},
   "outputs": [
    {
     "name": "stdout",
     "output_type": "stream",
     "text": [
      "{'generated_text': \"\\n\\nSageMaker LMI (Learning Model Insights) is a feature of Amazon SageMaker that provides a set of tools and algorithms to help machine learning (ML) practitioners interpret and understand the performance of their ML models. SageMaker LMI helps users to identify potential issues with their models, such as bias or drift, and to improve their model's performance over time.\\n\\nSageMaker LMI provides a range of capabilities, including:\\n\\n1. Model interpretability: SageMaker LMI provides tools to help users understand how their ML models are making predictions, including feature importance, partial dependence plots, and SHAP values.\\n2. Model monitoring: SageMaker LMI allows users to monitor their ML models in real-time, detecting potential issues such as bias or drift, and providing recommendations for improvement.\\n3. Model optimization: SageMaker LMI provides algorithms to help users optimize their ML models, such as hyperparameter tuning and model pruning.\\n4. Explainability: SageMaker LMI provides tools to help users explain the decisions made by their ML models, including feature importance and partial dependence plots.\\n5. Model validation: SageMaker LMI provides tools to help users validate their ML models, including model performance metrics and statistical testing.\\n\\nBy using SageMaker LMI, ML practitioners can gain a deeper understanding of their models, improve their performance, and build more trustworthy and reliable ML systems..\"}\n",
      "Elapsed:  3.4385434000287205\n",
      "Tokens:  326\n"
     ]
    }
   ],
   "source": [
    "test_model(\"What is SageMaker LMI?\")"
   ]
  },
  {
   "cell_type": "code",
   "execution_count": 99,
   "id": "bb7df3cb-cb7e-4457-b1b6-e40d82cd4ab6",
   "metadata": {
    "tags": []
   },
   "outputs": [
    {
     "name": "stdout",
     "output_type": "stream",
     "text": [
      "{'generated_text': \"\\n\\nAWS Solutions Architect certification is a professional certification offered by Amazon Web Services (AWS) that validates an individual's expertise in designing and deploying scalable, secure, and efficient cloud-based systems on AWS. To prepare for the certification exam, follow these steps:\\n\\n1. Understand the exam format: The AWS Solutions Architect certification exam consists of 60 multiple-choice questions, divided into two sections: Designing and Deploying Systems on AWS (30 questions) and Architecting on AWS (30 questions).\\n2. Familiarize yourself with AWS services: Study the various AWS services, including Compute, Storage, Database, Security, Networking, and Analytics. Understand the features, pricing, and use cases for each service.\\n3. Learn about AWS architectural design patterns: Study the AWS architectural design patterns, such as the N-tier architecture, the Microservices architecture, and the Serverless architecture. Understand how to design and deploy systems using these patterns.\\n4. Practice designing and deploying systems on AWS: Use AWS CloudFormation, AWS Cloud Development Kit (CDK), or AWS CloudWatch to design and deploy sample systems on AWS. Practice designing and deploying systems for different use cases, such as e-commerce, gaming, and IoT.\\n5. Study AWS security and compliance: Understand the AWS security and compliance best practices, including security controls, access management, and data encryption. Study the AWS security services, such as IAM, Cognito, and CloudWatch.\\n6. Learn about AWS pricing and cost optimization: Understand the AWS pricing models, including On-Demand, Reserved Instances, and Spot Instances. Study the cost optimization techniques, such as rightsizing instances, optimizing storage, and using\"}\n",
      "Elapsed:  4.18476123502478\n",
      "Tokens:  402\n"
     ]
    }
   ],
   "source": [
    "test_model(\"What are the recommended steps to train for an AWS Solutions Architect certification?\")"
   ]
  },
  {
   "cell_type": "code",
   "execution_count": 100,
   "id": "1fbf3a3d-9bc8-40e6-b6d4-aafe6604ad1b",
   "metadata": {
    "tags": []
   },
   "outputs": [
    {
     "name": "stdout",
     "output_type": "stream",
     "text": [
      "{'generated_text': \"\\nIntroduction:\\nChoosing the right university for an MBA program is a crucial decision that can have a significant impact on one's career and future. With so many universities offering MBA programs, it can be overwhelming to narrow down the options. In this blog post, we will discuss the various aspects one should consider when selecting a university for an MBA program.\\n\\n1. Program Reputation:\\nThe reputation of the MBA program is one of the most important factors to consider. Look for universities that have a good reputation in the business world and are accredited by reputable accrediting agencies. Check the rankings of the university's MBA program in various publications, such as Forbes, Bloomberg, or The Economist.\\n2. Curriculum:\\nThe curriculum of the MBA program should align with your career goals and interests. Look for universities that offer a diverse range of courses, including finance, marketing, operations, and strategy. Also, check if the program offers specializations or concentrations in areas such as entrepreneurship, sustainability, or international business.\\n3. Faculty:\\nThe quality of the faculty is crucial in shaping your MBA experience. Look for universities with experienced and accomplished faculty members who have practical experience in the business world. Check the faculty-to-student ratio to ensure that you receive personalized attention and mentorship.\\n4. Networking Opportunities:\\nNetworking is a critical aspect of an MBA program. Look for universities that have a strong alumni network and opportunities for networking with industry professionals. Attend information sessions and talk to current students and alumni to get a sense of the program's networking opportunities.\\n5. Location:\\nThe location of the university can have a significant impact on your M\"}\n",
      "Elapsed:  4.178977414034307\n",
      "Tokens:  402\n"
     ]
    }
   ],
   "source": [
    "test_model(\"write a blog post explaining how to select a university for an MBA. Elaborate on the various aspects one should consider.\")"
   ]
  },
  {
   "cell_type": "markdown",
   "id": "fbd24d00-8535-48bf-bb02-eabf8de69f08",
   "metadata": {},
   "source": [
    "### Cleanup Resources"
   ]
  },
  {
   "cell_type": "code",
   "execution_count": 13,
   "id": "fb23b5ae-0a75-485e-8d97-dfca451bd67a",
   "metadata": {},
   "outputs": [],
   "source": [
    "predictor.delete_endpoint()"
   ]
  },
  {
   "cell_type": "code",
   "execution_count": 14,
   "id": "5aeef065-973a-4961-8073-c2eda4d3ac45",
   "metadata": {
    "tags": []
   },
   "outputs": [],
   "source": [
    "model.delete_model()"
   ]
  }
 ],
 "metadata": {
  "availableInstances": [
   {
    "_defaultOrder": 0,
    "_isFastLaunch": true,
    "category": "General purpose",
    "gpuNum": 0,
    "hideHardwareSpecs": false,
    "memoryGiB": 4,
    "name": "ml.t3.medium",
    "vcpuNum": 2
   },
   {
    "_defaultOrder": 1,
    "_isFastLaunch": false,
    "category": "General purpose",
    "gpuNum": 0,
    "hideHardwareSpecs": false,
    "memoryGiB": 8,
    "name": "ml.t3.large",
    "vcpuNum": 2
   },
   {
    "_defaultOrder": 2,
    "_isFastLaunch": false,
    "category": "General purpose",
    "gpuNum": 0,
    "hideHardwareSpecs": false,
    "memoryGiB": 16,
    "name": "ml.t3.xlarge",
    "vcpuNum": 4
   },
   {
    "_defaultOrder": 3,
    "_isFastLaunch": false,
    "category": "General purpose",
    "gpuNum": 0,
    "hideHardwareSpecs": false,
    "memoryGiB": 32,
    "name": "ml.t3.2xlarge",
    "vcpuNum": 8
   },
   {
    "_defaultOrder": 4,
    "_isFastLaunch": true,
    "category": "General purpose",
    "gpuNum": 0,
    "hideHardwareSpecs": false,
    "memoryGiB": 8,
    "name": "ml.m5.large",
    "vcpuNum": 2
   },
   {
    "_defaultOrder": 5,
    "_isFastLaunch": false,
    "category": "General purpose",
    "gpuNum": 0,
    "hideHardwareSpecs": false,
    "memoryGiB": 16,
    "name": "ml.m5.xlarge",
    "vcpuNum": 4
   },
   {
    "_defaultOrder": 6,
    "_isFastLaunch": false,
    "category": "General purpose",
    "gpuNum": 0,
    "hideHardwareSpecs": false,
    "memoryGiB": 32,
    "name": "ml.m5.2xlarge",
    "vcpuNum": 8
   },
   {
    "_defaultOrder": 7,
    "_isFastLaunch": false,
    "category": "General purpose",
    "gpuNum": 0,
    "hideHardwareSpecs": false,
    "memoryGiB": 64,
    "name": "ml.m5.4xlarge",
    "vcpuNum": 16
   },
   {
    "_defaultOrder": 8,
    "_isFastLaunch": false,
    "category": "General purpose",
    "gpuNum": 0,
    "hideHardwareSpecs": false,
    "memoryGiB": 128,
    "name": "ml.m5.8xlarge",
    "vcpuNum": 32
   },
   {
    "_defaultOrder": 9,
    "_isFastLaunch": false,
    "category": "General purpose",
    "gpuNum": 0,
    "hideHardwareSpecs": false,
    "memoryGiB": 192,
    "name": "ml.m5.12xlarge",
    "vcpuNum": 48
   },
   {
    "_defaultOrder": 10,
    "_isFastLaunch": false,
    "category": "General purpose",
    "gpuNum": 0,
    "hideHardwareSpecs": false,
    "memoryGiB": 256,
    "name": "ml.m5.16xlarge",
    "vcpuNum": 64
   },
   {
    "_defaultOrder": 11,
    "_isFastLaunch": false,
    "category": "General purpose",
    "gpuNum": 0,
    "hideHardwareSpecs": false,
    "memoryGiB": 384,
    "name": "ml.m5.24xlarge",
    "vcpuNum": 96
   },
   {
    "_defaultOrder": 12,
    "_isFastLaunch": false,
    "category": "General purpose",
    "gpuNum": 0,
    "hideHardwareSpecs": false,
    "memoryGiB": 8,
    "name": "ml.m5d.large",
    "vcpuNum": 2
   },
   {
    "_defaultOrder": 13,
    "_isFastLaunch": false,
    "category": "General purpose",
    "gpuNum": 0,
    "hideHardwareSpecs": false,
    "memoryGiB": 16,
    "name": "ml.m5d.xlarge",
    "vcpuNum": 4
   },
   {
    "_defaultOrder": 14,
    "_isFastLaunch": false,
    "category": "General purpose",
    "gpuNum": 0,
    "hideHardwareSpecs": false,
    "memoryGiB": 32,
    "name": "ml.m5d.2xlarge",
    "vcpuNum": 8
   },
   {
    "_defaultOrder": 15,
    "_isFastLaunch": false,
    "category": "General purpose",
    "gpuNum": 0,
    "hideHardwareSpecs": false,
    "memoryGiB": 64,
    "name": "ml.m5d.4xlarge",
    "vcpuNum": 16
   },
   {
    "_defaultOrder": 16,
    "_isFastLaunch": false,
    "category": "General purpose",
    "gpuNum": 0,
    "hideHardwareSpecs": false,
    "memoryGiB": 128,
    "name": "ml.m5d.8xlarge",
    "vcpuNum": 32
   },
   {
    "_defaultOrder": 17,
    "_isFastLaunch": false,
    "category": "General purpose",
    "gpuNum": 0,
    "hideHardwareSpecs": false,
    "memoryGiB": 192,
    "name": "ml.m5d.12xlarge",
    "vcpuNum": 48
   },
   {
    "_defaultOrder": 18,
    "_isFastLaunch": false,
    "category": "General purpose",
    "gpuNum": 0,
    "hideHardwareSpecs": false,
    "memoryGiB": 256,
    "name": "ml.m5d.16xlarge",
    "vcpuNum": 64
   },
   {
    "_defaultOrder": 19,
    "_isFastLaunch": false,
    "category": "General purpose",
    "gpuNum": 0,
    "hideHardwareSpecs": false,
    "memoryGiB": 384,
    "name": "ml.m5d.24xlarge",
    "vcpuNum": 96
   },
   {
    "_defaultOrder": 20,
    "_isFastLaunch": false,
    "category": "General purpose",
    "gpuNum": 0,
    "hideHardwareSpecs": true,
    "memoryGiB": 0,
    "name": "ml.geospatial.interactive",
    "supportedImageNames": [
     "sagemaker-geospatial-v1-0"
    ],
    "vcpuNum": 0
   },
   {
    "_defaultOrder": 21,
    "_isFastLaunch": true,
    "category": "Compute optimized",
    "gpuNum": 0,
    "hideHardwareSpecs": false,
    "memoryGiB": 4,
    "name": "ml.c5.large",
    "vcpuNum": 2
   },
   {
    "_defaultOrder": 22,
    "_isFastLaunch": false,
    "category": "Compute optimized",
    "gpuNum": 0,
    "hideHardwareSpecs": false,
    "memoryGiB": 8,
    "name": "ml.c5.xlarge",
    "vcpuNum": 4
   },
   {
    "_defaultOrder": 23,
    "_isFastLaunch": false,
    "category": "Compute optimized",
    "gpuNum": 0,
    "hideHardwareSpecs": false,
    "memoryGiB": 16,
    "name": "ml.c5.2xlarge",
    "vcpuNum": 8
   },
   {
    "_defaultOrder": 24,
    "_isFastLaunch": false,
    "category": "Compute optimized",
    "gpuNum": 0,
    "hideHardwareSpecs": false,
    "memoryGiB": 32,
    "name": "ml.c5.4xlarge",
    "vcpuNum": 16
   },
   {
    "_defaultOrder": 25,
    "_isFastLaunch": false,
    "category": "Compute optimized",
    "gpuNum": 0,
    "hideHardwareSpecs": false,
    "memoryGiB": 72,
    "name": "ml.c5.9xlarge",
    "vcpuNum": 36
   },
   {
    "_defaultOrder": 26,
    "_isFastLaunch": false,
    "category": "Compute optimized",
    "gpuNum": 0,
    "hideHardwareSpecs": false,
    "memoryGiB": 96,
    "name": "ml.c5.12xlarge",
    "vcpuNum": 48
   },
   {
    "_defaultOrder": 27,
    "_isFastLaunch": false,
    "category": "Compute optimized",
    "gpuNum": 0,
    "hideHardwareSpecs": false,
    "memoryGiB": 144,
    "name": "ml.c5.18xlarge",
    "vcpuNum": 72
   },
   {
    "_defaultOrder": 28,
    "_isFastLaunch": false,
    "category": "Compute optimized",
    "gpuNum": 0,
    "hideHardwareSpecs": false,
    "memoryGiB": 192,
    "name": "ml.c5.24xlarge",
    "vcpuNum": 96
   },
   {
    "_defaultOrder": 29,
    "_isFastLaunch": true,
    "category": "Accelerated computing",
    "gpuNum": 1,
    "hideHardwareSpecs": false,
    "memoryGiB": 16,
    "name": "ml.g4dn.xlarge",
    "vcpuNum": 4
   },
   {
    "_defaultOrder": 30,
    "_isFastLaunch": false,
    "category": "Accelerated computing",
    "gpuNum": 1,
    "hideHardwareSpecs": false,
    "memoryGiB": 32,
    "name": "ml.g4dn.2xlarge",
    "vcpuNum": 8
   },
   {
    "_defaultOrder": 31,
    "_isFastLaunch": false,
    "category": "Accelerated computing",
    "gpuNum": 1,
    "hideHardwareSpecs": false,
    "memoryGiB": 64,
    "name": "ml.g4dn.4xlarge",
    "vcpuNum": 16
   },
   {
    "_defaultOrder": 32,
    "_isFastLaunch": false,
    "category": "Accelerated computing",
    "gpuNum": 1,
    "hideHardwareSpecs": false,
    "memoryGiB": 128,
    "name": "ml.g4dn.8xlarge",
    "vcpuNum": 32
   },
   {
    "_defaultOrder": 33,
    "_isFastLaunch": false,
    "category": "Accelerated computing",
    "gpuNum": 4,
    "hideHardwareSpecs": false,
    "memoryGiB": 192,
    "name": "ml.g4dn.12xlarge",
    "vcpuNum": 48
   },
   {
    "_defaultOrder": 34,
    "_isFastLaunch": false,
    "category": "Accelerated computing",
    "gpuNum": 1,
    "hideHardwareSpecs": false,
    "memoryGiB": 256,
    "name": "ml.g4dn.16xlarge",
    "vcpuNum": 64
   },
   {
    "_defaultOrder": 35,
    "_isFastLaunch": false,
    "category": "Accelerated computing",
    "gpuNum": 1,
    "hideHardwareSpecs": false,
    "memoryGiB": 61,
    "name": "ml.p3.2xlarge",
    "vcpuNum": 8
   },
   {
    "_defaultOrder": 36,
    "_isFastLaunch": false,
    "category": "Accelerated computing",
    "gpuNum": 4,
    "hideHardwareSpecs": false,
    "memoryGiB": 244,
    "name": "ml.p3.8xlarge",
    "vcpuNum": 32
   },
   {
    "_defaultOrder": 37,
    "_isFastLaunch": false,
    "category": "Accelerated computing",
    "gpuNum": 8,
    "hideHardwareSpecs": false,
    "memoryGiB": 488,
    "name": "ml.p3.16xlarge",
    "vcpuNum": 64
   },
   {
    "_defaultOrder": 38,
    "_isFastLaunch": false,
    "category": "Accelerated computing",
    "gpuNum": 8,
    "hideHardwareSpecs": false,
    "memoryGiB": 768,
    "name": "ml.p3dn.24xlarge",
    "vcpuNum": 96
   },
   {
    "_defaultOrder": 39,
    "_isFastLaunch": false,
    "category": "Memory Optimized",
    "gpuNum": 0,
    "hideHardwareSpecs": false,
    "memoryGiB": 16,
    "name": "ml.r5.large",
    "vcpuNum": 2
   },
   {
    "_defaultOrder": 40,
    "_isFastLaunch": false,
    "category": "Memory Optimized",
    "gpuNum": 0,
    "hideHardwareSpecs": false,
    "memoryGiB": 32,
    "name": "ml.r5.xlarge",
    "vcpuNum": 4
   },
   {
    "_defaultOrder": 41,
    "_isFastLaunch": false,
    "category": "Memory Optimized",
    "gpuNum": 0,
    "hideHardwareSpecs": false,
    "memoryGiB": 64,
    "name": "ml.r5.2xlarge",
    "vcpuNum": 8
   },
   {
    "_defaultOrder": 42,
    "_isFastLaunch": false,
    "category": "Memory Optimized",
    "gpuNum": 0,
    "hideHardwareSpecs": false,
    "memoryGiB": 128,
    "name": "ml.r5.4xlarge",
    "vcpuNum": 16
   },
   {
    "_defaultOrder": 43,
    "_isFastLaunch": false,
    "category": "Memory Optimized",
    "gpuNum": 0,
    "hideHardwareSpecs": false,
    "memoryGiB": 256,
    "name": "ml.r5.8xlarge",
    "vcpuNum": 32
   },
   {
    "_defaultOrder": 44,
    "_isFastLaunch": false,
    "category": "Memory Optimized",
    "gpuNum": 0,
    "hideHardwareSpecs": false,
    "memoryGiB": 384,
    "name": "ml.r5.12xlarge",
    "vcpuNum": 48
   },
   {
    "_defaultOrder": 45,
    "_isFastLaunch": false,
    "category": "Memory Optimized",
    "gpuNum": 0,
    "hideHardwareSpecs": false,
    "memoryGiB": 512,
    "name": "ml.r5.16xlarge",
    "vcpuNum": 64
   },
   {
    "_defaultOrder": 46,
    "_isFastLaunch": false,
    "category": "Memory Optimized",
    "gpuNum": 0,
    "hideHardwareSpecs": false,
    "memoryGiB": 768,
    "name": "ml.r5.24xlarge",
    "vcpuNum": 96
   },
   {
    "_defaultOrder": 47,
    "_isFastLaunch": false,
    "category": "Accelerated computing",
    "gpuNum": 1,
    "hideHardwareSpecs": false,
    "memoryGiB": 16,
    "name": "ml.g5.xlarge",
    "vcpuNum": 4
   },
   {
    "_defaultOrder": 48,
    "_isFastLaunch": false,
    "category": "Accelerated computing",
    "gpuNum": 1,
    "hideHardwareSpecs": false,
    "memoryGiB": 32,
    "name": "ml.g5.2xlarge",
    "vcpuNum": 8
   },
   {
    "_defaultOrder": 49,
    "_isFastLaunch": false,
    "category": "Accelerated computing",
    "gpuNum": 1,
    "hideHardwareSpecs": false,
    "memoryGiB": 64,
    "name": "ml.g5.4xlarge",
    "vcpuNum": 16
   },
   {
    "_defaultOrder": 50,
    "_isFastLaunch": false,
    "category": "Accelerated computing",
    "gpuNum": 1,
    "hideHardwareSpecs": false,
    "memoryGiB": 128,
    "name": "ml.g5.8xlarge",
    "vcpuNum": 32
   },
   {
    "_defaultOrder": 51,
    "_isFastLaunch": false,
    "category": "Accelerated computing",
    "gpuNum": 1,
    "hideHardwareSpecs": false,
    "memoryGiB": 256,
    "name": "ml.g5.16xlarge",
    "vcpuNum": 64
   },
   {
    "_defaultOrder": 52,
    "_isFastLaunch": false,
    "category": "Accelerated computing",
    "gpuNum": 4,
    "hideHardwareSpecs": false,
    "memoryGiB": 192,
    "name": "ml.g5.12xlarge",
    "vcpuNum": 48
   },
   {
    "_defaultOrder": 53,
    "_isFastLaunch": false,
    "category": "Accelerated computing",
    "gpuNum": 4,
    "hideHardwareSpecs": false,
    "memoryGiB": 384,
    "name": "ml.g5.24xlarge",
    "vcpuNum": 96
   },
   {
    "_defaultOrder": 54,
    "_isFastLaunch": false,
    "category": "Accelerated computing",
    "gpuNum": 8,
    "hideHardwareSpecs": false,
    "memoryGiB": 768,
    "name": "ml.g5.48xlarge",
    "vcpuNum": 192
   },
   {
    "_defaultOrder": 55,
    "_isFastLaunch": false,
    "category": "Accelerated computing",
    "gpuNum": 8,
    "hideHardwareSpecs": false,
    "memoryGiB": 1152,
    "name": "ml.p4d.24xlarge",
    "vcpuNum": 96
   },
   {
    "_defaultOrder": 56,
    "_isFastLaunch": false,
    "category": "Accelerated computing",
    "gpuNum": 8,
    "hideHardwareSpecs": false,
    "memoryGiB": 1152,
    "name": "ml.p4de.24xlarge",
    "vcpuNum": 96
   },
   {
    "_defaultOrder": 57,
    "_isFastLaunch": false,
    "category": "Accelerated computing",
    "gpuNum": 0,
    "hideHardwareSpecs": false,
    "memoryGiB": 32,
    "name": "ml.trn1.2xlarge",
    "vcpuNum": 8
   },
   {
    "_defaultOrder": 58,
    "_isFastLaunch": false,
    "category": "Accelerated computing",
    "gpuNum": 0,
    "hideHardwareSpecs": false,
    "memoryGiB": 512,
    "name": "ml.trn1.32xlarge",
    "vcpuNum": 128
   },
   {
    "_defaultOrder": 59,
    "_isFastLaunch": false,
    "category": "Accelerated computing",
    "gpuNum": 0,
    "hideHardwareSpecs": false,
    "memoryGiB": 512,
    "name": "ml.trn1n.32xlarge",
    "vcpuNum": 128
   }
  ],
  "instance_type": "ml.t3.medium",
  "kernelspec": {
   "display_name": "Python 3 (Data Science 3.0)",
   "language": "python",
   "name": "python3__SAGEMAKER_INTERNAL__arn:aws:sagemaker:us-west-2:236514542706:image/sagemaker-data-science-310-v1"
  },
  "language_info": {
   "codemirror_mode": {
    "name": "ipython",
    "version": 3
   },
   "file_extension": ".py",
   "mimetype": "text/x-python",
   "name": "python",
   "nbconvert_exporter": "python",
   "pygments_lexer": "ipython3",
   "version": "3.10.6"
  }
 },
 "nbformat": 4,
 "nbformat_minor": 5
}
